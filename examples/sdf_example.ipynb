{
 "cells": [
  {
   "cell_type": "code",
   "execution_count": 1,
   "id": "sufficient-audit",
   "metadata": {},
   "outputs": [],
   "source": [
    "from sdf import *\n",
    "import meshplot as mp"
   ]
  },
  {
   "cell_type": "code",
   "execution_count": 2,
   "id": "african-latin",
   "metadata": {},
   "outputs": [],
   "source": [
    "o = sphere(1) & box(1.5)\n",
    "c = cylinder(0.5)\n",
    "o -= c.orient(X) | c.orient(Y) | c.orient(Z)"
   ]
  },
  {
   "cell_type": "code",
   "execution_count": 3,
   "id": "worthy-activation",
   "metadata": {},
   "outputs": [],
   "source": [
    "v,f = mesh.mc_original(o)"
   ]
  },
  {
   "cell_type": "code",
   "execution_count": 4,
   "id": "remarkable-embassy",
   "metadata": {},
   "outputs": [
    {
     "data": {
      "application/vnd.jupyter.widget-view+json": {
       "model_id": "f79be489c9934b3ab7d757c490995f52",
       "version_major": 2,
       "version_minor": 0
      },
      "text/plain": [
       "Renderer(camera=PerspectiveCamera(children=(DirectionalLight(color='white', intensity=0.6, position=(24.5, 24.…"
      ]
     },
     "metadata": {},
     "output_type": "display_data"
    },
    {
     "data": {
      "text/plain": [
       "<meshplot.Viewer.Viewer at 0x11b9f8730>"
      ]
     },
     "execution_count": 4,
     "metadata": {},
     "output_type": "execute_result"
    }
   ],
   "source": [
    "mp.plot(v,f)"
   ]
  },
  {
   "cell_type": "code",
   "execution_count": null,
   "id": "square-armenia",
   "metadata": {},
   "outputs": [],
   "source": []
  }
 ],
 "metadata": {
  "kernelspec": {
   "display_name": "Python 3",
   "language": "python",
   "name": "python3"
  },
  "language_info": {
   "codemirror_mode": {
    "name": "ipython",
    "version": 3
   },
   "file_extension": ".py",
   "mimetype": "text/x-python",
   "name": "python",
   "nbconvert_exporter": "python",
   "pygments_lexer": "ipython3",
   "version": "3.9.1"
  }
 },
 "nbformat": 4,
 "nbformat_minor": 5
}
